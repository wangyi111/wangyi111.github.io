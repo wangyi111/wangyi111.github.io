{
  "nbformat": 4,
  "nbformat_minor": 0,
  "metadata": {
    "accelerator": "GPU",
    "colab": {
      "name": "2020-08-15-tensorflow-NLP-1.ipynb",
      "provenance": [],
      "toc_visible": true
    },
    "kernelspec": {
      "display_name": "Python 3",
      "language": "python",
      "name": "python3"
    },
    "language_info": {
      "codemirror_mode": {
        "name": "ipython",
        "version": 3
      },
      "file_extension": ".py",
      "mimetype": "text/x-python",
      "name": "python",
      "nbconvert_exporter": "python",
      "pygments_lexer": "ipython3",
      "version": "3.7.7-final"
    }
  },
  "cells": [
    {
      "cell_type": "markdown",
      "metadata": {
        "id": "BzWQoaAEbT_Y",
        "colab_type": "text"
      },
      "source": [
        "## 00: Import Modules and Set Hyper-parameters"
      ]
    },
    {
      "cell_type": "code",
      "metadata": {
        "colab_type": "code",
        "id": "hmA6EzkQJ5jt",
        "colab": {}
      },
      "source": [
        "import json\n",
        "import tensorflow as tf\n",
        "import csv\n",
        "import random\n",
        "import numpy as np\n",
        "\n",
        "from tensorflow.keras.preprocessing.text import Tokenizer\n",
        "from tensorflow.keras.preprocessing.sequence import pad_sequences\n",
        "from tensorflow.keras.utils import to_categorical\n",
        "from tensorflow.keras import regularizers\n",
        "\n",
        "\n",
        "embedding_dim = 100 # num of embedding feature dimensions (like RGB for image)\n",
        "max_length = 16 # max length of a sentence\n",
        "trunc_type='post' # truncate end words\n",
        "padding_type='post' # pad in the end\n",
        "oov_tok = \"<OOV>\" # out-of-value token\n",
        "training_size=160000 \n",
        "test_portion=.1 # 10% data for test\n",
        "\n",
        "corpus = []\n"
      ],
      "execution_count": 1,
      "outputs": []
    },
    {
      "cell_type": "markdown",
      "metadata": {
        "id": "bIjOIFVqbT_g",
        "colab_type": "text"
      },
      "source": [
        "## 01: Prepare Data"
      ]
    },
    {
      "cell_type": "markdown",
      "metadata": {
        "id": "J9qxSlVfbT_i",
        "colab_type": "text"
      },
      "source": [
        "We first download data and extract sentences and labels"
      ]
    },
    {
      "cell_type": "code",
      "metadata": {
        "id": "YENiC8j0bT_j",
        "colab_type": "code",
        "colab": {
          "base_uri": "https://localhost:8080/",
          "height": 228
        },
        "outputId": "5b60f6d0-f71e-47d4-8ee9-0aa836c93953"
      },
      "source": [
        "\n",
        "!wget --no-check-certificate \\\n",
        "    https://storage.googleapis.com/laurencemoroney-blog.appspot.com/training_cleaned.csv \\\n",
        "    -O /tmp/training_cleaned.csv"
      ],
      "execution_count": 2,
      "outputs": [
        {
          "output_type": "stream",
          "text": [
            "--2020-08-20 15:12:32--  https://storage.googleapis.com/laurencemoroney-blog.appspot.com/training_cleaned.csv\n",
            "Resolving storage.googleapis.com (storage.googleapis.com)... 173.194.69.128, 173.194.79.128, 108.177.119.128, ...\n",
            "Connecting to storage.googleapis.com (storage.googleapis.com)|173.194.69.128|:443... connected.\n",
            "HTTP request sent, awaiting response... 200 OK\n",
            "Length: 238942690 (228M) [application/octet-stream]\n",
            "Saving to: ‘/tmp/training_cleaned.csv’\n",
            "\n",
            "/tmp/training_clean 100%[===================>] 227.87M  70.3MB/s    in 3.2s    \n",
            "\n",
            "2020-08-20 15:12:36 (70.3 MB/s) - ‘/tmp/training_cleaned.csv’ saved [238942690/238942690]\n",
            "\n"
          ],
          "name": "stdout"
        }
      ]
    },
    {
      "cell_type": "code",
      "metadata": {
        "colab_type": "code",
        "id": "bM0l_dORKqE0",
        "tags": [],
        "colab": {}
      },
      "source": [
        "\n",
        "num_sentences = 0\n",
        "\n",
        "with open(\"/tmp/training_cleaned.csv\") as csvfile:\n",
        "    reader = csv.reader(csvfile, delimiter=',')\n",
        "    for row in reader:\n",
        "        list_item=[]\n",
        "        list_item.append(row[5])\n",
        "        this_label=row[0]\n",
        "        if this_label=='0': # binary class\n",
        "            list_item.append(0)\n",
        "        else:\n",
        "            list_item.append(1)\n",
        "        num_sentences = num_sentences + 1\n",
        "        corpus.append(list_item)\n"
      ],
      "execution_count": 3,
      "outputs": []
    },
    {
      "cell_type": "markdown",
      "metadata": {
        "id": "37__Z-vvbT_q",
        "colab_type": "text"
      },
      "source": [
        "Have a look at the sentences."
      ]
    },
    {
      "cell_type": "code",
      "metadata": {
        "colab_type": "code",
        "id": "3kxblBUjEUX-",
        "tags": [],
        "colab": {
          "base_uri": "https://localhost:8080/",
          "height": 89
        },
        "outputId": "bcf1bdbb-1919-4118-b7d0-76748f9322e9"
      },
      "source": [
        "print(num_sentences)\n",
        "print(len(corpus))\n",
        "print(corpus[0])"
      ],
      "execution_count": 30,
      "outputs": [
        {
          "output_type": "stream",
          "text": [
            "1600000\n",
            "1600000\n",
            "['@MilkyMooMoo Oh no, my old mum wont let me use the phone on mondays and certainly not to ring a pretty lady like you! ', 1]\n"
          ],
          "name": "stdout"
        }
      ]
    },
    {
      "cell_type": "markdown",
      "metadata": {
        "id": "ghhiVjLrbT_t",
        "colab_type": "text"
      },
      "source": [
        "Prepare training data."
      ]
    },
    {
      "cell_type": "code",
      "metadata": {
        "colab_type": "code",
        "id": "ohOGz24lsNAD",
        "colab": {}
      },
      "source": [
        "# create sentences and labels\n",
        "sentences=[]\n",
        "labels=[]\n",
        "random.shuffle(corpus)\n",
        "for x in range(training_size):\n",
        "    sentences.append(corpus[x][0])\n",
        "    labels.append(corpus[x][1])\n",
        "\n",
        "# tokenize the sentences: word --> index\n",
        "tokenizer = Tokenizer()\n",
        "tokenizer.fit_on_texts(sentences)\n",
        "\n",
        "word_index = tokenizer.word_index\n",
        "vocab_size=len(word_index) # num of different words\n",
        "\n",
        "sequences = tokenizer.texts_to_sequences(sentences) # transfer a sentence to an index sequence\n",
        "padded = pad_sequences(sequences, maxlen=max_length, padding=padding_type, truncating=trunc_type) # form all sentence sequences to the same length\n",
        "\n",
        "# split the sequences to training and test\n",
        "split = int(test_portion * training_size) \n",
        "\n",
        "test_sequences = padded[0:split]\n",
        "training_sequences = padded[split:training_size]\n",
        "test_labels = labels[0:split]\n",
        "training_labels = labels[split:training_size]"
      ],
      "execution_count": 5,
      "outputs": []
    },
    {
      "cell_type": "markdown",
      "metadata": {
        "id": "2hABlKO0bT_x",
        "colab_type": "text"
      },
      "source": [
        "## 02: Build model from transfer learning"
      ]
    },
    {
      "cell_type": "markdown",
      "metadata": {
        "id": "mB62Trh4bT_y",
        "colab_type": "text"
      },
      "source": [
        "We first download and generate Glove embedding model."
      ]
    },
    {
      "cell_type": "code",
      "metadata": {
        "id": "UBxZNMopbT_y",
        "colab_type": "code",
        "colab": {
          "base_uri": "https://localhost:8080/",
          "height": 228
        },
        "outputId": "4d406cf7-8405-46bb-8822-1f948f4254ab"
      },
      "source": [
        "# Note this is the 100 dimension version of GloVe from Stanford\n",
        "# I unzipped and hosted it on my site to make this notebook easier\n",
        "!wget --no-check-certificate \\\n",
        "    https://storage.googleapis.com/laurencemoroney-blog.appspot.com/glove.6B.100d.txt \\\n",
        "    -O /tmp/glove.6B.100d.txt"
      ],
      "execution_count": 6,
      "outputs": [
        {
          "output_type": "stream",
          "text": [
            "--2020-08-20 15:13:02--  https://storage.googleapis.com/laurencemoroney-blog.appspot.com/glove.6B.100d.txt\n",
            "Resolving storage.googleapis.com (storage.googleapis.com)... 108.177.119.128, 108.177.126.128, 108.177.127.128, ...\n",
            "Connecting to storage.googleapis.com (storage.googleapis.com)|108.177.119.128|:443... connected.\n",
            "HTTP request sent, awaiting response... 200 OK\n",
            "Length: 347116733 (331M) [text/plain]\n",
            "Saving to: ‘/tmp/glove.6B.100d.txt’\n",
            "\n",
            "/tmp/glove.6B.100d. 100%[===================>] 331.04M  62.4MB/s    in 5.3s    \n",
            "\n",
            "2020-08-20 15:13:08 (62.4 MB/s) - ‘/tmp/glove.6B.100d.txt’ saved [347116733/347116733]\n",
            "\n"
          ],
          "name": "stdout"
        }
      ]
    },
    {
      "cell_type": "code",
      "metadata": {
        "colab_type": "code",
        "id": "C1zdgJkusRh0",
        "tags": [],
        "colab": {}
      },
      "source": [
        "embeddings_index = {}\n",
        "with open('/tmp/glove.6B.100d.txt',encoding='utf-8') as f:\n",
        "    for line in f:\n",
        "        values = line.split()\n",
        "        word = values[0]\n",
        "        coefs = np.asarray(values[1:], dtype='float32')\n",
        "        embeddings_index[word] = coefs\n",
        "\n",
        "embeddings_matrix = np.zeros((vocab_size+1, embedding_dim)); # storing the word embedding info\n",
        "for word, i in word_index.items():\n",
        "    embedding_vector = embeddings_index.get(word)\n",
        "    if embedding_vector is not None:\n",
        "        embeddings_matrix[i] = embedding_vector"
      ],
      "execution_count": 7,
      "outputs": []
    },
    {
      "cell_type": "markdown",
      "metadata": {
        "id": "FBaXE3KnbT_7",
        "colab_type": "text"
      },
      "source": [
        "Then build the network model with both convolution and LSTM layers."
      ]
    },
    {
      "cell_type": "code",
      "metadata": {
        "colab_type": "code",
        "id": "iKKvbuEBOGFz",
        "tags": [],
        "colab": {
          "base_uri": "https://localhost:8080/",
          "height": 364
        },
        "outputId": "781cbed1-90f1-4ec3-82bf-4f9e00becbfa"
      },
      "source": [
        "model = tf.keras.Sequential([\n",
        "    tf.keras.layers.Embedding(vocab_size+1, embedding_dim, input_length=max_length, weights=[embeddings_matrix], trainable=False), # set parameters of pre-loaded embedding model untrainable\n",
        "    tf.keras.layers.Dropout(0.2),\n",
        "    tf.keras.layers.Conv1D(64, 5, activation='relu'),\n",
        "    tf.keras.layers.MaxPooling1D(pool_size=4),\n",
        "    tf.keras.layers.LSTM(64),\n",
        "    tf.keras.layers.Dense(1, activation='sigmoid')\n",
        "])\n",
        "model.compile(loss='binary_crossentropy',optimizer='adam',metrics=['accuracy'])\n",
        "model.summary()\n"
      ],
      "execution_count": 8,
      "outputs": [
        {
          "output_type": "stream",
          "text": [
            "Model: \"sequential\"\n",
            "_________________________________________________________________\n",
            "Layer (type)                 Output Shape              Param #   \n",
            "=================================================================\n",
            "embedding (Embedding)        (None, 16, 100)           13912200  \n",
            "_________________________________________________________________\n",
            "dropout (Dropout)            (None, 16, 100)           0         \n",
            "_________________________________________________________________\n",
            "conv1d (Conv1D)              (None, 12, 64)            32064     \n",
            "_________________________________________________________________\n",
            "max_pooling1d (MaxPooling1D) (None, 3, 64)             0         \n",
            "_________________________________________________________________\n",
            "lstm (LSTM)                  (None, 64)                33024     \n",
            "_________________________________________________________________\n",
            "dense (Dense)                (None, 1)                 65        \n",
            "=================================================================\n",
            "Total params: 13,977,353\n",
            "Trainable params: 65,153\n",
            "Non-trainable params: 13,912,200\n",
            "_________________________________________________________________\n"
          ],
          "name": "stdout"
        }
      ]
    },
    {
      "cell_type": "markdown",
      "metadata": {
        "id": "yd4wYdxlbT__",
        "colab_type": "text"
      },
      "source": [
        "## 03: Training and Visualization"
      ]
    },
    {
      "cell_type": "markdown",
      "metadata": {
        "id": "A9tW4CtBbT__",
        "colab_type": "text"
      },
      "source": [
        "Before training, we have to transfer the senquences and labels into numpy arrays."
      ]
    },
    {
      "cell_type": "code",
      "metadata": {
        "id": "GCxpxGZ6bUAA",
        "colab_type": "code",
        "colab": {
          "base_uri": "https://localhost:8080/",
          "height": 1000
        },
        "outputId": "d7ae02aa-3071-4cbc-bf72-494bbb47a4c7"
      },
      "source": [
        "num_epochs = 50\n",
        "\n",
        "training_padded = np.array(training_sequences)\n",
        "training_labels = np.array(training_labels)\n",
        "testing_padded = np.array(test_sequences)\n",
        "testing_labels = np.array(test_labels)\n",
        "\n",
        "history = model.fit(training_padded, training_labels, epochs=num_epochs, validation_data=(testing_padded, testing_labels), verbose=2)\n",
        "\n",
        "print(\"Training Complete\")"
      ],
      "execution_count": 9,
      "outputs": [
        {
          "output_type": "stream",
          "text": [
            "Epoch 1/50\n",
            "4500/4500 - 16s - loss: 0.5665 - accuracy: 0.6995 - val_loss: 0.5379 - val_accuracy: 0.7274\n",
            "Epoch 2/50\n",
            "4500/4500 - 15s - loss: 0.5254 - accuracy: 0.7333 - val_loss: 0.5205 - val_accuracy: 0.7404\n",
            "Epoch 3/50\n",
            "4500/4500 - 15s - loss: 0.5092 - accuracy: 0.7442 - val_loss: 0.5226 - val_accuracy: 0.7416\n",
            "Epoch 4/50\n",
            "4500/4500 - 15s - loss: 0.4984 - accuracy: 0.7527 - val_loss: 0.5139 - val_accuracy: 0.7457\n",
            "Epoch 5/50\n",
            "4500/4500 - 15s - loss: 0.4890 - accuracy: 0.7584 - val_loss: 0.5118 - val_accuracy: 0.7493\n",
            "Epoch 6/50\n",
            "4500/4500 - 15s - loss: 0.4815 - accuracy: 0.7635 - val_loss: 0.5091 - val_accuracy: 0.7524\n",
            "Epoch 7/50\n",
            "4500/4500 - 15s - loss: 0.4765 - accuracy: 0.7655 - val_loss: 0.5090 - val_accuracy: 0.7504\n",
            "Epoch 8/50\n",
            "4500/4500 - 15s - loss: 0.4712 - accuracy: 0.7701 - val_loss: 0.5136 - val_accuracy: 0.7489\n",
            "Epoch 9/50\n",
            "4500/4500 - 15s - loss: 0.4664 - accuracy: 0.7716 - val_loss: 0.5174 - val_accuracy: 0.7442\n",
            "Epoch 10/50\n",
            "4500/4500 - 15s - loss: 0.4629 - accuracy: 0.7745 - val_loss: 0.5146 - val_accuracy: 0.7474\n",
            "Epoch 11/50\n",
            "4500/4500 - 15s - loss: 0.4591 - accuracy: 0.7771 - val_loss: 0.5115 - val_accuracy: 0.7513\n",
            "Epoch 12/50\n",
            "4500/4500 - 15s - loss: 0.4546 - accuracy: 0.7791 - val_loss: 0.5146 - val_accuracy: 0.7502\n",
            "Epoch 13/50\n",
            "4500/4500 - 15s - loss: 0.4539 - accuracy: 0.7798 - val_loss: 0.5220 - val_accuracy: 0.7472\n",
            "Epoch 14/50\n",
            "4500/4500 - 15s - loss: 0.4510 - accuracy: 0.7814 - val_loss: 0.5165 - val_accuracy: 0.7482\n",
            "Epoch 15/50\n",
            "4500/4500 - 15s - loss: 0.4490 - accuracy: 0.7826 - val_loss: 0.5211 - val_accuracy: 0.7467\n",
            "Epoch 16/50\n",
            "4500/4500 - 15s - loss: 0.4470 - accuracy: 0.7843 - val_loss: 0.5218 - val_accuracy: 0.7485\n",
            "Epoch 17/50\n",
            "4500/4500 - 15s - loss: 0.4456 - accuracy: 0.7855 - val_loss: 0.5211 - val_accuracy: 0.7471\n",
            "Epoch 18/50\n",
            "4500/4500 - 15s - loss: 0.4437 - accuracy: 0.7861 - val_loss: 0.5210 - val_accuracy: 0.7464\n",
            "Epoch 19/50\n",
            "4500/4500 - 15s - loss: 0.4419 - accuracy: 0.7875 - val_loss: 0.5209 - val_accuracy: 0.7499\n",
            "Epoch 20/50\n",
            "4500/4500 - 15s - loss: 0.4399 - accuracy: 0.7888 - val_loss: 0.5281 - val_accuracy: 0.7495\n",
            "Epoch 21/50\n",
            "4500/4500 - 15s - loss: 0.4387 - accuracy: 0.7900 - val_loss: 0.5267 - val_accuracy: 0.7467\n",
            "Epoch 22/50\n",
            "4500/4500 - 15s - loss: 0.4377 - accuracy: 0.7910 - val_loss: 0.5231 - val_accuracy: 0.7473\n",
            "Epoch 23/50\n",
            "4500/4500 - 15s - loss: 0.4371 - accuracy: 0.7909 - val_loss: 0.5318 - val_accuracy: 0.7450\n",
            "Epoch 24/50\n",
            "4500/4500 - 15s - loss: 0.4362 - accuracy: 0.7925 - val_loss: 0.5273 - val_accuracy: 0.7471\n",
            "Epoch 25/50\n",
            "4500/4500 - 15s - loss: 0.4356 - accuracy: 0.7916 - val_loss: 0.5260 - val_accuracy: 0.7473\n",
            "Epoch 26/50\n",
            "4500/4500 - 15s - loss: 0.4344 - accuracy: 0.7920 - val_loss: 0.5328 - val_accuracy: 0.7471\n",
            "Epoch 27/50\n",
            "4500/4500 - 15s - loss: 0.4343 - accuracy: 0.7921 - val_loss: 0.5303 - val_accuracy: 0.7435\n",
            "Epoch 28/50\n",
            "4500/4500 - 15s - loss: 0.4323 - accuracy: 0.7936 - val_loss: 0.5286 - val_accuracy: 0.7446\n",
            "Epoch 29/50\n",
            "4500/4500 - 15s - loss: 0.4321 - accuracy: 0.7942 - val_loss: 0.5275 - val_accuracy: 0.7461\n",
            "Epoch 30/50\n",
            "4500/4500 - 15s - loss: 0.4310 - accuracy: 0.7937 - val_loss: 0.5292 - val_accuracy: 0.7433\n",
            "Epoch 31/50\n",
            "4500/4500 - 15s - loss: 0.4302 - accuracy: 0.7953 - val_loss: 0.5381 - val_accuracy: 0.7431\n",
            "Epoch 32/50\n",
            "4500/4500 - 15s - loss: 0.4290 - accuracy: 0.7959 - val_loss: 0.5304 - val_accuracy: 0.7455\n",
            "Epoch 33/50\n",
            "4500/4500 - 15s - loss: 0.4290 - accuracy: 0.7965 - val_loss: 0.5338 - val_accuracy: 0.7431\n",
            "Epoch 34/50\n",
            "4500/4500 - 15s - loss: 0.4297 - accuracy: 0.7950 - val_loss: 0.5298 - val_accuracy: 0.7474\n",
            "Epoch 35/50\n",
            "4500/4500 - 15s - loss: 0.4291 - accuracy: 0.7937 - val_loss: 0.5319 - val_accuracy: 0.7432\n",
            "Epoch 36/50\n",
            "4500/4500 - 15s - loss: 0.4303 - accuracy: 0.7947 - val_loss: 0.5329 - val_accuracy: 0.7402\n",
            "Epoch 37/50\n",
            "4500/4500 - 15s - loss: 0.4286 - accuracy: 0.7952 - val_loss: 0.5351 - val_accuracy: 0.7412\n",
            "Epoch 38/50\n",
            "4500/4500 - 15s - loss: 0.4264 - accuracy: 0.7978 - val_loss: 0.5311 - val_accuracy: 0.7423\n",
            "Epoch 39/50\n",
            "4500/4500 - 15s - loss: 0.4267 - accuracy: 0.7965 - val_loss: 0.5357 - val_accuracy: 0.7443\n",
            "Epoch 40/50\n",
            "4500/4500 - 15s - loss: 0.4255 - accuracy: 0.7974 - val_loss: 0.5372 - val_accuracy: 0.7427\n",
            "Epoch 41/50\n",
            "4500/4500 - 15s - loss: 0.4260 - accuracy: 0.7971 - val_loss: 0.5373 - val_accuracy: 0.7444\n",
            "Epoch 42/50\n",
            "4500/4500 - 15s - loss: 0.4265 - accuracy: 0.7962 - val_loss: 0.5316 - val_accuracy: 0.7456\n",
            "Epoch 43/50\n",
            "4500/4500 - 15s - loss: 0.4257 - accuracy: 0.7979 - val_loss: 0.5356 - val_accuracy: 0.7431\n",
            "Epoch 44/50\n",
            "4500/4500 - 15s - loss: 0.4243 - accuracy: 0.7988 - val_loss: 0.5419 - val_accuracy: 0.7395\n",
            "Epoch 45/50\n",
            "4500/4500 - 15s - loss: 0.4252 - accuracy: 0.7978 - val_loss: 0.5349 - val_accuracy: 0.7416\n",
            "Epoch 46/50\n",
            "4500/4500 - 15s - loss: 0.4248 - accuracy: 0.7987 - val_loss: 0.5381 - val_accuracy: 0.7418\n",
            "Epoch 47/50\n",
            "4500/4500 - 15s - loss: 0.4236 - accuracy: 0.7988 - val_loss: 0.5361 - val_accuracy: 0.7429\n",
            "Epoch 48/50\n",
            "4500/4500 - 15s - loss: 0.4265 - accuracy: 0.7964 - val_loss: 0.5338 - val_accuracy: 0.7426\n",
            "Epoch 49/50\n",
            "4500/4500 - 15s - loss: 0.4246 - accuracy: 0.7984 - val_loss: 0.5375 - val_accuracy: 0.7434\n",
            "Epoch 50/50\n",
            "4500/4500 - 15s - loss: 0.4244 - accuracy: 0.7978 - val_loss: 0.5393 - val_accuracy: 0.7437\n",
            "Training Complete\n"
          ],
          "name": "stdout"
        }
      ]
    },
    {
      "cell_type": "markdown",
      "metadata": {
        "id": "CEilDTKebUAD",
        "colab_type": "text"
      },
      "source": [
        "Let’s have a look at the training process, watching how accuracy and loss change over epochs."
      ]
    },
    {
      "cell_type": "code",
      "metadata": {
        "colab_type": "code",
        "id": "qxju4ItJKO8F",
        "colab": {
          "base_uri": "https://localhost:8080/",
          "height": 608
        },
        "outputId": "1ac4d58d-3d0d-4161-9855-4afef2aba221"
      },
      "source": [
        "import matplotlib.image  as mpimg\n",
        "import matplotlib.pyplot as plt\n",
        "\n",
        "#-----------------------------------------------------------\n",
        "# Retrieve a list of list results on training and test data\n",
        "# sets for each training epoch\n",
        "#-----------------------------------------------------------\n",
        "acc=history.history['accuracy']\n",
        "val_acc=history.history['val_accuracy']\n",
        "loss=history.history['loss']\n",
        "val_loss=history.history['val_loss']\n",
        "\n",
        "epochs=range(len(acc)) # Get number of epochs\n",
        "\n",
        "#------------------------------------------------\n",
        "# Plot training and validation accuracy per epoch\n",
        "#------------------------------------------------\n",
        "plt.plot(epochs, acc, 'r')\n",
        "plt.plot(epochs, val_acc, 'b')\n",
        "plt.title('Training and validation accuracy')\n",
        "plt.xlabel(\"Epochs\")\n",
        "plt.ylabel(\"Accuracy\")\n",
        "plt.legend([\"Accuracy\", \"Validation Accuracy\"])\n",
        "\n",
        "plt.figure()\n",
        "\n",
        "#------------------------------------------------\n",
        "# Plot training and validation loss per epoch\n",
        "#------------------------------------------------\n",
        "plt.plot(epochs, loss, 'r')\n",
        "plt.plot(epochs, val_loss, 'b')\n",
        "plt.title('Training and validation loss')\n",
        "plt.xlabel(\"Epochs\")\n",
        "plt.ylabel(\"Loss\")\n",
        "plt.legend([\"Loss\", \"Validation Loss\"])\n",
        "\n",
        "plt.figure()\n",
        "\n",
        "\n",
        "# Expected Output\n",
        "# A chart where the validation loss does not increase sharply!"
      ],
      "execution_count": 10,
      "outputs": [
        {
          "output_type": "execute_result",
          "data": {
            "text/plain": [
              "<Figure size 432x288 with 0 Axes>"
            ]
          },
          "metadata": {
            "tags": []
          },
          "execution_count": 10
        },
        {
          "output_type": "display_data",
          "data": {
            "image/png": "[encoded data removed]",
            "text/plain": [
              "<Figure size 432x288 with 1 Axes>"
            ]
          },
          "metadata": {
            "tags": [],
            "needs_background": "light"
          }
        },
        {
          "output_type": "display_data",
          "data": {
            "image/png": "[encoded data removed]",
            "text/plain": [
              "<Figure size 432x288 with 1 Axes>"
            ]
          },
          "metadata": {
            "tags": [],
            "needs_background": "light"
          }
        },
        {
          "output_type": "display_data",
          "data": {
            "text/plain": [
              "<Figure size 432x288 with 0 Axes>"
            ]
          },
          "metadata": {
            "tags": []
          }
        }
      ]
    },
    {
      "cell_type": "markdown",
      "metadata": {
        "id": "FGOY1EM_bUAG",
        "colab_type": "text"
      },
      "source": [
        "We can see that the training accuracy reaches up to 80%, which is quite good. However, there exists some kind of overfitting."
      ]
    },
    {
      "cell_type": "markdown",
      "metadata": {
        "id": "bugHcjQmls4C",
        "colab_type": "text"
      },
      "source": [
        "## 04: Use the model"
      ]
    },
    {
      "cell_type": "markdown",
      "metadata": {
        "id": "yKT33Cb8lytQ",
        "colab_type": "text"
      },
      "source": [
        "Let's try this trained model to classify some sentences."
      ]
    },
    {
      "cell_type": "code",
      "metadata": {
        "id": "AxvPLORabUAH",
        "colab_type": "code",
        "colab": {
          "base_uri": "https://localhost:8080/",
          "height": 104
        },
        "outputId": "461183c9-b62c-4330-cce1-193ba6dbae0c"
      },
      "source": [
        "test_0 = [\"I love you\",\"I hate you\",\"You're a good man, but we are not suitable to be together.\"]\n",
        "test_1 = tokenizer.texts_to_sequences(test_0)\n",
        "test_2 = pad_sequences(test_1, maxlen=max_length, padding=padding_type, truncating=trunc_type)\n",
        "test_3 = np.array(test_2)\n",
        "re = model.predict(test_3)\n",
        "for i in range(len(re)):\n",
        "  print(re[i])\n",
        "  if re[i]>0.8:\n",
        "    print('positive')\n",
        "  elif re[i]<0.2:\n",
        "    print('negative')"
      ],
      "execution_count": 58,
      "outputs": [
        {
          "output_type": "stream",
          "text": [
            "[0.88264596]\n",
            "positive\n",
            "[0.03774856]\n",
            "negative\n",
            "[0.24521422]\n"
          ],
          "name": "stdout"
        }
      ]
    },
    {
      "cell_type": "markdown",
      "metadata": {
        "id": "Bbm3anMjnBRQ",
        "colab_type": "text"
      },
      "source": [
        "Both are classified correctly, the third is also reasonable. It's not bad:) "
      ]
    }
  ]
}