{
  "nbformat": 4,
  "nbformat_minor": 0,
  "metadata": {
    "colab": {
      "name": "Untitled0.ipynb",
      "provenance": [],
      "toc_visible": true
    },
    "kernelspec": {
      "name": "python3",
      "display_name": "Python 3"
    },
    "accelerator": "GPU"
  },
  "cells": [
    {
      "cell_type": "markdown",
      "metadata": {
        "id": "XBKN82zroR2O",
        "colab_type": "text"
      },
      "source": [
        "## 01: Prepare Data"
      ]
    },
    {
      "cell_type": "markdown",
      "metadata": {
        "id": "R36TH4iooiMC",
        "colab_type": "text"
      },
      "source": [
        "Same as last blog, download and extract training and validation data."
      ]
    },
    {
      "cell_type": "code",
      "metadata": {
        "id": "KYmDX_42l4IR",
        "colab_type": "code",
        "colab": {
          "base_uri": "https://localhost:8080/",
          "height": 228
        },
        "outputId": "a5b9391d-8301-42a3-f646-d7f4ffb87649"
      },
      "source": [
        "!wget --no-check-certificate \\\n",
        "    https://storage.googleapis.com/laurencemoroney-blog.appspot.com/rps.zip \\\n",
        "    -O /tmp/rps.zip"
      ],
      "execution_count": 1,
      "outputs": [
        {
          "output_type": "stream",
          "text": [
            "--2020-08-20 11:21:49--  https://storage.googleapis.com/laurencemoroney-blog.appspot.com/rps.zip\n",
            "Resolving storage.googleapis.com (storage.googleapis.com)... 173.194.76.128, 64.233.184.128, 64.233.166.128, ...\n",
            "Connecting to storage.googleapis.com (storage.googleapis.com)|173.194.76.128|:443... connected.\n",
            "HTTP request sent, awaiting response... 200 OK\n",
            "Length: 200682221 (191M) [application/zip]\n",
            "Saving to: ‘/tmp/rps.zip’\n",
            "\n",
            "/tmp/rps.zip        100%[===================>] 191.38M  87.4MB/s    in 2.2s    \n",
            "\n",
            "2020-08-20 11:21:51 (87.4 MB/s) - ‘/tmp/rps.zip’ saved [200682221/200682221]\n",
            "\n"
          ],
          "name": "stdout"
        }
      ]
    },
    {
      "cell_type": "code",
      "metadata": {
        "id": "Wu8ZSsmKmVhg",
        "colab_type": "code",
        "colab": {
          "base_uri": "https://localhost:8080/",
          "height": 208
        },
        "outputId": "4607b06e-0c61-4a2a-a4c7-d073b98a170b"
      },
      "source": [
        "!wget --no-check-certificate \\\n",
        "    https://storage.googleapis.com/laurencemoroney-blog.appspot.com/rps-test-set.zip \\\n",
        "    -O /tmp/rps-test-set.zip"
      ],
      "execution_count": 2,
      "outputs": [
        {
          "output_type": "stream",
          "text": [
            "--2020-08-20 11:22:05--  https://storage.googleapis.com/laurencemoroney-blog.appspot.com/rps-test-set.zip\n",
            "Resolving storage.googleapis.com (storage.googleapis.com)... 74.125.133.128, 173.194.76.128, 66.102.1.128, ...\n",
            "Connecting to storage.googleapis.com (storage.googleapis.com)|74.125.133.128|:443... connected.\n",
            "HTTP request sent, awaiting response... 200 OK\n",
            "Length: 29516758 (28M) [application/zip]\n",
            "Saving to: ‘/tmp/rps-test-set.zip’\n",
            "\n",
            "\r/tmp/rps-test-set.z   0%[                    ]       0  --.-KB/s               \r/tmp/rps-test-set.z  35%[======>             ]   9.99M  28.5MB/s               \r/tmp/rps-test-set.z 100%[===================>]  28.15M  58.7MB/s    in 0.5s    \n",
            "\n",
            "2020-08-20 11:22:06 (58.7 MB/s) - ‘/tmp/rps-test-set.zip’ saved [29516758/29516758]\n",
            "\n"
          ],
          "name": "stdout"
        }
      ]
    },
    {
      "cell_type": "code",
      "metadata": {
        "id": "1hPOjaxSmqRq",
        "colab_type": "code",
        "colab": {}
      },
      "source": [
        "import os\n",
        "import zipfile\n",
        "\n",
        "local_zip = '/tmp/rps.zip'\n",
        "zip_ref = zipfile.ZipFile(local_zip, 'r')\n",
        "zip_ref.extractall('/tmp/')\n",
        "zip_ref.close()\n",
        "\n",
        "local_zip = '/tmp/rps-test-set.zip'\n",
        "zip_ref = zipfile.ZipFile(local_zip, 'r')\n",
        "zip_ref.extractall('/tmp/')\n",
        "zip_ref.close()"
      ],
      "execution_count": 3,
      "outputs": []
    },
    {
      "cell_type": "markdown",
      "metadata": {
        "id": "6_ILHOq7o7ZY",
        "colab_type": "text"
      },
      "source": [
        "Data augmentation and prepare data generator for model training."
      ]
    },
    {
      "cell_type": "code",
      "metadata": {
        "id": "pADw7d8Cm4WA",
        "colab_type": "code",
        "colab": {
          "base_uri": "https://localhost:8080/",
          "height": 52
        },
        "outputId": "3931d13a-9870-41ae-a3f4-3e0f28705eec"
      },
      "source": [
        "import tensorflow as tf\n",
        "import keras_preprocessing\n",
        "from keras_preprocessing import image\n",
        "from keras_preprocessing.image import ImageDataGenerator\n",
        "\n",
        "TRAINING_DIR = \"/tmp/rps/\"\n",
        "training_datagen = ImageDataGenerator(\n",
        "      rescale = 1./255,        # limit the grey value to 0-1\n",
        "\t    rotation_range=40,       # the image can rotate from 0-40 degree\n",
        "      width_shift_range=0.2,   #\n",
        "      height_shift_range=0.2,  # the image can shift\n",
        "      shear_range=0.2,         # the image can shear\n",
        "      zoom_range=0.2,          # the image can zoom in and out to at most 20 percent\n",
        "      horizontal_flip=True,    # the image can flip horizontally\n",
        "      fill_mode='nearest')     # fill blank pixels after processing\n",
        "\n",
        "VALIDATION_DIR = \"/tmp/rps-test-set/\"\n",
        "validation_datagen = ImageDataGenerator(rescale = 1./255) # only augment training dataset\n",
        "\n",
        "train_generator = training_datagen.flow_from_directory(\n",
        "\tTRAINING_DIR,\n",
        "\ttarget_size=(150,150),\n",
        "\tclass_mode='categorical', # multi-class mode, if two-class use 'binary'\n",
        "  batch_size=126\n",
        ")\n",
        "\n",
        "validation_generator = validation_datagen.flow_from_directory(\n",
        "\tVALIDATION_DIR,\n",
        "\ttarget_size=(150,150),\n",
        "\tclass_mode='categorical',\n",
        "  batch_size=126\n",
        ")"
      ],
      "execution_count": 4,
      "outputs": [
        {
          "output_type": "stream",
          "text": [
            "Found 2520 images belonging to 3 classes.\n",
            "Found 372 images belonging to 3 classes.\n"
          ],
          "name": "stdout"
        }
      ]
    },
    {
      "cell_type": "markdown",
      "metadata": {
        "id": "tx0fF-cEno6z",
        "colab_type": "text"
      },
      "source": [
        "## 02: Build Model From Transfer Learning"
      ]
    },
    {
      "cell_type": "markdown",
      "metadata": {
        "id": "cdGO2UFXpMRe",
        "colab_type": "text"
      },
      "source": [
        "In this part, we will use transfer learning to build a bigger and deeper neural network. Firstly let's download the pre-trained *InceptionV3* model including its weights, extract the layers and freeze the weights not being trained later."
      ]
    },
    {
      "cell_type": "code",
      "metadata": {
        "id": "eOymmUMLnZWI",
        "colab_type": "code",
        "colab": {
          "base_uri": "https://localhost:8080/",
          "height": 245
        },
        "outputId": "11f5cfa2-5d57-4394-b66f-e439188923b0"
      },
      "source": [
        "from tensorflow.keras.applications.inception_v3 import InceptionV3\n",
        "# download preloaded weights\n",
        "!wget --no-check-certificate \\\n",
        "    https://storage.googleapis.com/mledu-datasets/inception_v3_weights_tf_dim_ordering_tf_kernels_notop.h5 \\\n",
        "    -O /tmp/inception_v3_weights_tf_dim_ordering_tf_kernels_notop.h5\n",
        "\n",
        "local_weights_file = '/tmp/inception_v3_weights_tf_dim_ordering_tf_kernels_notop.h5'\n",
        "\n",
        "# load pre-trained model\n",
        "pre_trained_model = InceptionV3(input_shape = (150, 150, 3), # corresponds with our data\n",
        "                                include_top = False, # cut last FC layer, to be replaced by ours\n",
        "                                weights = None) # clear weights\n",
        "# load weights\n",
        "pre_trained_model.load_weights(local_weights_file)\n",
        "# lock (freeze) the pre-trained layers\n",
        "for layer in pre_trained_model.layers:\n",
        "  layer.trainable = False\n",
        "  \n",
        "# pre_trained_model.summary()\n",
        "\n",
        "# get the last layer of pre-trained layers from summary()\n",
        "last_layer = pre_trained_model.get_layer('mixed7') \n",
        "print('last layer output shape: ', last_layer.output_shape)\n",
        "last_output = last_layer.output"
      ],
      "execution_count": 6,
      "outputs": [
        {
          "output_type": "stream",
          "text": [
            "--2020-08-20 11:38:31--  https://storage.googleapis.com/mledu-datasets/inception_v3_weights_tf_dim_ordering_tf_kernels_notop.h5\n",
            "Resolving storage.googleapis.com (storage.googleapis.com)... 64.233.167.128, 74.125.71.128, 74.125.140.128, ...\n",
            "Connecting to storage.googleapis.com (storage.googleapis.com)|64.233.167.128|:443... connected.\n",
            "HTTP request sent, awaiting response... 200 OK\n",
            "Length: 87910968 (84M) [application/x-hdf]\n",
            "Saving to: ‘/tmp/inception_v3_weights_tf_dim_ordering_tf_kernels_notop.h5’\n",
            "\n",
            "\r          /tmp/ince   0%[                    ]       0  --.-KB/s               \r         /tmp/incep   9%[>                   ]   8.01M  11.4MB/s               \r        /tmp/incept  19%[==>                 ]  16.01M  11.4MB/s               \r       /tmp/incepti  57%[==========>         ]  48.01M  28.5MB/s               \r      /tmp/inceptio  76%[==============>     ]  64.00M  23.8MB/s               \r/tmp/inception_v3_w 100%[===================>]  83.84M  29.7MB/s    in 2.8s    \n",
            "\n",
            "2020-08-20 11:38:34 (29.7 MB/s) - ‘/tmp/inception_v3_weights_tf_dim_ordering_tf_kernels_notop.h5’ saved [87910968/87910968]\n",
            "\n",
            "last layer output shape:  (None, 7, 7, 768)\n"
          ],
          "name": "stdout"
        }
      ]
    },
    {
      "cell_type": "markdown",
      "metadata": {
        "id": "EGYJ-_t_qoD9",
        "colab_type": "text"
      },
      "source": [
        "Now we can build our model by extending the pretrained *InceptionV3* model"
      ]
    },
    {
      "cell_type": "code",
      "metadata": {
        "id": "zjfOEXUGqm63",
        "colab_type": "code",
        "colab": {}
      },
      "source": [
        "from tensorflow.keras.optimizers import RMSprop\n",
        "\n",
        "# Flatten the output layer to 1 dimension\n",
        "x = tf.keras.layers.Flatten()(last_output)\n",
        "# Add a fully connected layer with 1,024 hidden units and ReLU activation\n",
        "x = tf.keras.layers.Dense(1024, activation='relu')(x)\n",
        "# Add a dropout rate of 0.2\n",
        "x = tf.keras.layers.Dropout(0.4)(x)                  \n",
        "# Add a final sigmoid layer for classification\n",
        "x = tf.keras.layers.Dense(3, activation='softmax')(x)           \n",
        "\n",
        "# build final model with pre-trained layers\n",
        "model = tf.keras.Model( pre_trained_model.input, x) \n",
        "# compile model\n",
        "model.compile(optimizer = RMSprop(lr=0.0001), \n",
        "              loss = 'categorical_crossentropy', \n",
        "              metrics = ['accuracy'])"
      ],
      "execution_count": 10,
      "outputs": []
    },
    {
      "cell_type": "markdown",
      "metadata": {
        "id": "fDRCiuuFrQeJ",
        "colab_type": "text"
      },
      "source": [
        "## 03: Training and Visualization"
      ]
    },
    {
      "cell_type": "code",
      "metadata": {
        "id": "WUvXh-EwrDeK",
        "colab_type": "code",
        "colab": {
          "base_uri": "https://localhost:8080/",
          "height": 904
        },
        "outputId": "ddf617a6-2d92-4b25-fc30-558152fcdce5"
      },
      "source": [
        "history = model.fit(train_generator, epochs=25, steps_per_epoch=20, validation_data = validation_generator, verbose = 1, validation_steps=3)\n",
        "\n",
        "model.save(\"rps.h5\") # save the trained model with trained weights"
      ],
      "execution_count": 11,
      "outputs": [
        {
          "output_type": "stream",
          "text": [
            "Epoch 1/25\n",
            "20/20 [==============================] - 25s 1s/step - loss: 0.8723 - accuracy: 0.7901 - val_loss: 0.6861 - val_accuracy: 0.7231\n",
            "Epoch 2/25\n",
            "20/20 [==============================] - 23s 1s/step - loss: 0.2579 - accuracy: 0.8996 - val_loss: 0.4400 - val_accuracy: 0.8118\n",
            "Epoch 3/25\n",
            "20/20 [==============================] - 23s 1s/step - loss: 0.1293 - accuracy: 0.9552 - val_loss: 0.2386 - val_accuracy: 0.8898\n",
            "Epoch 4/25\n",
            "20/20 [==============================] - 23s 1s/step - loss: 0.1577 - accuracy: 0.9560 - val_loss: 0.2649 - val_accuracy: 0.8978\n",
            "Epoch 5/25\n",
            "20/20 [==============================] - 23s 1s/step - loss: 0.0580 - accuracy: 0.9778 - val_loss: 0.5463 - val_accuracy: 0.7769\n",
            "Epoch 6/25\n",
            "20/20 [==============================] - 23s 1s/step - loss: 0.0473 - accuracy: 0.9837 - val_loss: 0.1699 - val_accuracy: 0.9462\n",
            "Epoch 7/25\n",
            "20/20 [==============================] - 23s 1s/step - loss: 0.0927 - accuracy: 0.9679 - val_loss: 1.4277 - val_accuracy: 0.6398\n",
            "Epoch 8/25\n",
            "20/20 [==============================] - 23s 1s/step - loss: 0.0383 - accuracy: 0.9873 - val_loss: 0.0920 - val_accuracy: 0.9651\n",
            "Epoch 9/25\n",
            "20/20 [==============================] - 23s 1s/step - loss: 0.1102 - accuracy: 0.9714 - val_loss: 0.3521 - val_accuracy: 0.8737\n",
            "Epoch 10/25\n",
            "20/20 [==============================] - 23s 1s/step - loss: 0.0711 - accuracy: 0.9774 - val_loss: 0.2828 - val_accuracy: 0.8978\n",
            "Epoch 11/25\n",
            "20/20 [==============================] - 23s 1s/step - loss: 0.0233 - accuracy: 0.9925 - val_loss: 1.8297 - val_accuracy: 0.6505\n",
            "Epoch 12/25\n",
            "20/20 [==============================] - 23s 1s/step - loss: 0.0572 - accuracy: 0.9810 - val_loss: 0.7946 - val_accuracy: 0.7715\n",
            "Epoch 13/25\n",
            "20/20 [==============================] - 23s 1s/step - loss: 0.0363 - accuracy: 0.9897 - val_loss: 1.7787 - val_accuracy: 0.6613\n",
            "Epoch 14/25\n",
            "20/20 [==============================] - 23s 1s/step - loss: 0.0295 - accuracy: 0.9905 - val_loss: 0.6368 - val_accuracy: 0.8091\n",
            "Epoch 15/25\n",
            "20/20 [==============================] - 23s 1s/step - loss: 0.0473 - accuracy: 0.9853 - val_loss: 1.5680 - val_accuracy: 0.7231\n",
            "Epoch 16/25\n",
            "20/20 [==============================] - 23s 1s/step - loss: 0.0386 - accuracy: 0.9861 - val_loss: 0.3479 - val_accuracy: 0.8790\n",
            "Epoch 17/25\n",
            "20/20 [==============================] - 23s 1s/step - loss: 0.0295 - accuracy: 0.9889 - val_loss: 0.0689 - val_accuracy: 0.9812\n",
            "Epoch 18/25\n",
            "20/20 [==============================] - 23s 1s/step - loss: 0.0186 - accuracy: 0.9929 - val_loss: 0.2031 - val_accuracy: 0.9489\n",
            "Epoch 19/25\n",
            "20/20 [==============================] - 23s 1s/step - loss: 0.0441 - accuracy: 0.9861 - val_loss: 0.0779 - val_accuracy: 0.9758\n",
            "Epoch 20/25\n",
            "20/20 [==============================] - 23s 1s/step - loss: 0.0164 - accuracy: 0.9952 - val_loss: 0.1721 - val_accuracy: 0.9274\n",
            "Epoch 21/25\n",
            "20/20 [==============================] - 23s 1s/step - loss: 0.0264 - accuracy: 0.9909 - val_loss: 0.1407 - val_accuracy: 0.9597\n",
            "Epoch 22/25\n",
            "20/20 [==============================] - 23s 1s/step - loss: 0.0131 - accuracy: 0.9948 - val_loss: 2.4778 - val_accuracy: 0.7016\n",
            "Epoch 23/25\n",
            "20/20 [==============================] - 23s 1s/step - loss: 0.0258 - accuracy: 0.9905 - val_loss: 0.3103 - val_accuracy: 0.8978\n",
            "Epoch 24/25\n",
            "20/20 [==============================] - 23s 1s/step - loss: 0.0157 - accuracy: 0.9933 - val_loss: 0.0650 - val_accuracy: 0.9758\n",
            "Epoch 25/25\n",
            "20/20 [==============================] - 23s 1s/step - loss: 0.0188 - accuracy: 0.9952 - val_loss: 0.1025 - val_accuracy: 0.9597\n"
          ],
          "name": "stdout"
        }
      ]
    },
    {
      "cell_type": "markdown",
      "metadata": {
        "id": "W78EnVdhsrMz",
        "colab_type": "text"
      },
      "source": [
        "Let’s have a look at the training process, watching how accuracy and loss change over epochs."
      ]
    },
    {
      "cell_type": "code",
      "metadata": {
        "id": "E-wjLXdUrfpL",
        "colab_type": "code",
        "colab": {
          "base_uri": "https://localhost:8080/",
          "height": 299
        },
        "outputId": "faee48c8-c7c9-425e-a5ac-79b1faacc05c"
      },
      "source": [
        "import matplotlib.pyplot as plt\n",
        "acc = history.history['accuracy']\n",
        "val_acc = history.history['val_accuracy']\n",
        "loss = history.history['loss']\n",
        "val_loss = history.history['val_loss']\n",
        "\n",
        "epochs = range(len(acc))\n",
        "\n",
        "plt.plot(epochs, acc, 'r', label='Training accuracy')\n",
        "plt.plot(epochs, val_acc, 'b', label='Validation accuracy')\n",
        "plt.title('Training and validation accuracy')\n",
        "plt.legend(loc=0)\n",
        "plt.figure()\n",
        "\n",
        "plt.show()"
      ],
      "execution_count": 12,
      "outputs": [
        {
          "output_type": "display_data",
          "data": {
            "image/png": "[encoded data removed]",
            "text/plain": [
              "<Figure size 432x288 with 1 Axes>"
            ]
          },
          "metadata": {
            "tags": [],
            "needs_background": "light"
          }
        },
        {
          "output_type": "display_data",
          "data": {
            "text/plain": [
              "<Figure size 432x288 with 0 Axes>"
            ]
          },
          "metadata": {
            "tags": []
          }
        }
      ]
    },
    {
      "cell_type": "markdown",
      "metadata": {
        "id": "SnYDm1kL0qd-",
        "colab_type": "text"
      },
      "source": [
        "Absolutely this result is no better than last blog, especially for the validation set. The main reason is that the *InceptionV3* model is trained for object classification, but our case is hand gesture, which is not so relative. This is also one big problem in transfer learning to find the relation between different cases. Therefore, instead of using the fixed weights, we can try using them for initialization and let them be trained during the process, which may lead to better results."
      ]
    }
  ]
}