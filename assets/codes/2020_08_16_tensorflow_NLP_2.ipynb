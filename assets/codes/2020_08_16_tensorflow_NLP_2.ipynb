{
  "nbformat": 4,
  "nbformat_minor": 0,
  "metadata": {
    "accelerator": "TPU",
    "colab": {
      "name": "NLP_Week4_Exercise_Shakespeare_Question.ipynb",
      "provenance": [],
      "toc_visible": true
    },
    "kernelspec": {
      "display_name": "Python 3",
      "name": "python3"
    }
  },
  "cells": [
    {
      "cell_type": "markdown",
      "metadata": {},
      "source": [
        "## 00: Import modules"
      ]
    },
    {
      "cell_type": "code",
      "metadata": {
        "colab_type": "code",
        "id": "BOwsuGQQY9OL",
        "colab": {}
      },
      "source": [
        "from tensorflow.keras.preprocessing.sequence import pad_sequences\n",
        "from tensorflow.keras.layers import Embedding, LSTM, Dense, Dropout, Bidirectional\n",
        "from tensorflow.keras.preprocessing.text import Tokenizer\n",
        "from tensorflow.keras.models import Sequential\n",
        "from tensorflow.keras.optimizers import Adam\n",
        "from tensorflow.keras import regularizers\n",
        "import tensorflow.keras.utils as ku \n",
        "import numpy as np "
      ],
      "execution_count": 3,
      "outputs": []
    },
    {
      "cell_type": "markdown",
      "metadata": {},
      "source": [
        "## 01: Prepare Data"
      ]
    },
    {
      "cell_type": "code",
      "metadata": {
        "colab_type": "code",
        "id": "PRnDnCW-Z7qv",
        "colab": {
          "base_uri": "https://localhost:8080/",
          "height": 228
        },
        "outputId": "18034457-e509-4912-ff98-320fc8ddada0"
      },
      "source": [
        "# download data\n",
        "!wget --no-check-certificate \\\n",
        "    https://storage.googleapis.com/laurencemoroney-blog.appspot.com/sonnets.txt \\\n",
        "    -O /tmp/sonnets.txt\n",
        "\n",
        "# read data\n",
        "data = open('/tmp/sonnets.txt').read()\n",
        "corpus = data.lower().split(\"\\n\")\n",
        "\n",
        "# tokenize data\n",
        "tokenizer = Tokenizer()\n",
        "tokenizer.fit_on_texts(corpus)\n",
        "total_words = len(tokenizer.word_index) + 1\n",
        "\n",
        "# create input sequences using list of tokens\n",
        "input_sequences = []\n",
        "for line in corpus:\n",
        "\ttoken_list = tokenizer.texts_to_sequences([line])[0]\n",
        "\tfor i in range(1, len(token_list)):\n",
        "\t\tn_gram_sequence = token_list[:i+1]\n",
        "\t\tinput_sequences.append(n_gram_sequence)\n",
        "\n",
        "\n",
        "# pad sequences \n",
        "max_sequence_len = max([len(x) for x in input_sequences])\n",
        "input_sequences = np.array(pad_sequences(input_sequences, maxlen=max_sequence_len, padding='pre'))\n",
        "\n",
        "# create predictors and label\n",
        "predictors, label = input_sequences[:,:-1],input_sequences[:,-1] # the next word is a current sequence's label\n",
        "\n",
        "label = ku.to_categorical(label, num_classes=total_words) "
      ],
      "execution_count": 2,
      "outputs": [
        {
          "output_type": "stream",
          "text": [
            "--2020-08-13 14:03:21--  https://storage.googleapis.com/laurencemoroney-blog.appspot.com/sonnets.txt\n",
            "Resolving storage.googleapis.com (storage.googleapis.com)... 172.217.212.128, 172.217.214.128, 74.125.69.128, ...\n",
            "Connecting to storage.googleapis.com (storage.googleapis.com)|172.217.212.128|:443... connected.\n",
            "HTTP request sent, awaiting response... 200 OK\n",
            "Length: 93578 (91K) [text/plain]\n",
            "Saving to: ‘/tmp/sonnets.txt’\n",
            "\n",
            "\r/tmp/sonnets.txt      0%[                    ]       0  --.-KB/s               \r/tmp/sonnets.txt    100%[===================>]  91.38K  --.-KB/s    in 0.001s  \n",
            "\n",
            "2020-08-13 14:03:21 (113 MB/s) - ‘/tmp/sonnets.txt’ saved [93578/93578]\n",
            "\n"
          ],
          "name": "stdout"
        }
      ]
    },
    {
      "cell_type": "markdown",
      "metadata": {},
      "source": [
        "## 02: Build Model"
      ]
    },
    {
      "cell_type": "code",
      "metadata": {
        "colab_type": "code",
        "id": "w9vH8Y59ajYL",
        "colab": {
          "base_uri": "https://localhost:8080/",
          "height": 381
        },
        "outputId": "771aa9af-0115-462e-d2bf-841375f9c2be"
      },
      "source": [
        "model = Sequential()\n",
        "model.add(Embedding(total_words,100,input_length=max_sequence_len-1))\n",
        "model.add(Bidirectional(LSTM(150,return_sequences=True)))\n",
        "model.add(Dropout(0.2))\n",
        "model.add(Bidirectional(LSTM(100)))\n",
        "model.add(Dense(total_words/2,activation='relu',kernel_regularizer=regularizers.l2(0.01)))\n",
        "model.add(Dense(total_words,activation='softmax'))\n",
        "# Pick an optimizer\n",
        "model.compile(loss='categorical_crossentropy',optimizer='adam',metrics=['accuracy'])\n",
        "print(model.summary())\n"
      ],
      "execution_count": 7,
      "outputs": [
        {
          "output_type": "stream",
          "text": [
            "Model: \"sequential_2\"\n",
            "_________________________________________________________________\n",
            "Layer (type)                 Output Shape              Param #   \n",
            "=================================================================\n",
            "embedding_2 (Embedding)      (None, 10, 100)           321100    \n",
            "_________________________________________________________________\n",
            "bidirectional_2 (Bidirection (None, 10, 300)           301200    \n",
            "_________________________________________________________________\n",
            "dropout_1 (Dropout)          (None, 10, 300)           0         \n",
            "_________________________________________________________________\n",
            "bidirectional_3 (Bidirection (None, 200)               320800    \n",
            "_________________________________________________________________\n",
            "dense_2 (Dense)              (None, 1605)              322605    \n",
            "_________________________________________________________________\n",
            "dense_3 (Dense)              (None, 3211)              5156866   \n",
            "=================================================================\n",
            "Total params: 6,422,571\n",
            "Trainable params: 6,422,571\n",
            "Non-trainable params: 0\n",
            "_________________________________________________________________\n",
            "None\n"
          ],
          "name": "stdout"
        }
      ]
    },
    {
      "cell_type": "markdown",
      "metadata": {},
      "source": [
        "## 03: Training and Visualization"
      ]
    },
    {
      "cell_type": "code",
      "metadata": {
        "colab_type": "code",
        "id": "AIg2f1HBxqof",
        "colab": {
          "base_uri": "https://localhost:8080/",
          "height": 1000
        },
        "outputId": "01b42d81-9422-4a80-c376-54175339957c"
      },
      "source": [
        " history = model.fit(predictors, label, epochs=100, verbose=1)"
      ],
      "execution_count": 8,
      "outputs": [
        {
          "output_type": "stream",
          "text": [
            "Epoch 1/100\n",
            "484/484 [==============================] - 43s 89ms/step - loss: 6.9761 - accuracy: 0.0204\n",
            "Epoch 2/100\n",
            "484/484 [==============================] - 44s 90ms/step - loss: 6.5056 - accuracy: 0.0225\n",
            "Epoch 3/100\n",
            "484/484 [==============================] - 43s 89ms/step - loss: 6.4002 - accuracy: 0.0235\n",
            "Epoch 4/100\n",
            "484/484 [==============================] - 44s 90ms/step - loss: 6.2709 - accuracy: 0.0301\n",
            "Epoch 5/100\n",
            "484/484 [==============================] - 43s 89ms/step - loss: 6.1755 - accuracy: 0.0365\n",
            "Epoch 6/100\n",
            "484/484 [==============================] - 43s 89ms/step - loss: 6.0801 - accuracy: 0.0395\n",
            "Epoch 7/100\n",
            "484/484 [==============================] - 43s 89ms/step - loss: 5.9811 - accuracy: 0.0441\n",
            "Epoch 8/100\n",
            "484/484 [==============================] - 43s 89ms/step - loss: 5.8758 - accuracy: 0.0471\n",
            "Epoch 9/100\n",
            "484/484 [==============================] - 43s 89ms/step - loss: 5.7589 - accuracy: 0.0510\n",
            "Epoch 10/100\n",
            "484/484 [==============================] - 43s 89ms/step - loss: 5.6371 - accuracy: 0.0552\n",
            "Epoch 11/100\n",
            "484/484 [==============================] - 43s 89ms/step - loss: 5.5152 - accuracy: 0.0662\n",
            "Epoch 12/100\n",
            "484/484 [==============================] - 43s 90ms/step - loss: 5.3943 - accuracy: 0.0763\n",
            "Epoch 13/100\n",
            "484/484 [==============================] - 43s 89ms/step - loss: 5.2819 - accuracy: 0.0801\n",
            "Epoch 14/100\n",
            "484/484 [==============================] - 43s 89ms/step - loss: 5.1679 - accuracy: 0.0883\n",
            "Epoch 15/100\n",
            "484/484 [==============================] - 43s 89ms/step - loss: 5.0585 - accuracy: 0.0953\n",
            "Epoch 16/100\n",
            "484/484 [==============================] - 43s 89ms/step - loss: 4.9563 - accuracy: 0.1028\n",
            "Epoch 17/100\n",
            "484/484 [==============================] - 43s 89ms/step - loss: 4.8468 - accuracy: 0.1164\n",
            "Epoch 18/100\n",
            "484/484 [==============================] - 43s 89ms/step - loss: 4.7362 - accuracy: 0.1257\n",
            "Epoch 19/100\n",
            "484/484 [==============================] - 43s 89ms/step - loss: 4.6266 - accuracy: 0.1332\n",
            "Epoch 20/100\n",
            "484/484 [==============================] - 43s 89ms/step - loss: 4.5126 - accuracy: 0.1426\n",
            "Epoch 21/100\n",
            "484/484 [==============================] - 43s 89ms/step - loss: 4.4112 - accuracy: 0.1572\n",
            "Epoch 22/100\n",
            "484/484 [==============================] - 43s 89ms/step - loss: 4.3034 - accuracy: 0.1709\n",
            "Epoch 23/100\n",
            "484/484 [==============================] - 43s 89ms/step - loss: 4.1948 - accuracy: 0.1813\n",
            "Epoch 24/100\n",
            "484/484 [==============================] - 43s 89ms/step - loss: 4.0865 - accuracy: 0.1936\n",
            "Epoch 25/100\n",
            "484/484 [==============================] - 43s 89ms/step - loss: 3.9750 - accuracy: 0.2137\n",
            "Epoch 26/100\n",
            "484/484 [==============================] - 43s 89ms/step - loss: 3.8652 - accuracy: 0.2305\n",
            "Epoch 27/100\n",
            "484/484 [==============================] - 43s 89ms/step - loss: 3.7687 - accuracy: 0.2450\n",
            "Epoch 28/100\n",
            "484/484 [==============================] - 43s 89ms/step - loss: 3.6602 - accuracy: 0.2666\n",
            "Epoch 29/100\n",
            "484/484 [==============================] - 43s 89ms/step - loss: 3.5586 - accuracy: 0.2905\n",
            "Epoch 30/100\n",
            "484/484 [==============================] - 43s 89ms/step - loss: 3.4643 - accuracy: 0.3068\n",
            "Epoch 31/100\n",
            "484/484 [==============================] - 43s 89ms/step - loss: 3.3683 - accuracy: 0.3322\n",
            "Epoch 32/100\n",
            "484/484 [==============================] - 43s 89ms/step - loss: 3.2773 - accuracy: 0.3556\n",
            "Epoch 33/100\n",
            "484/484 [==============================] - 43s 89ms/step - loss: 3.1822 - accuracy: 0.3711\n",
            "Epoch 34/100\n",
            "484/484 [==============================] - 43s 89ms/step - loss: 3.0976 - accuracy: 0.3934\n",
            "Epoch 35/100\n",
            "484/484 [==============================] - 43s 89ms/step - loss: 3.0003 - accuracy: 0.4102\n",
            "Epoch 36/100\n",
            "484/484 [==============================] - 43s 89ms/step - loss: 2.9363 - accuracy: 0.4300\n",
            "Epoch 37/100\n",
            "484/484 [==============================] - 43s 89ms/step - loss: 2.8537 - accuracy: 0.4470\n",
            "Epoch 38/100\n",
            "484/484 [==============================] - 43s 89ms/step - loss: 2.7787 - accuracy: 0.4626\n",
            "Epoch 39/100\n",
            "484/484 [==============================] - 43s 89ms/step - loss: 2.7035 - accuracy: 0.4800\n",
            "Epoch 40/100\n",
            "484/484 [==============================] - 43s 89ms/step - loss: 2.6270 - accuracy: 0.5024\n",
            "Epoch 41/100\n",
            "484/484 [==============================] - 43s 89ms/step - loss: 2.5661 - accuracy: 0.5142\n",
            "Epoch 42/100\n",
            "484/484 [==============================] - 43s 89ms/step - loss: 2.5052 - accuracy: 0.5293\n",
            "Epoch 43/100\n",
            "484/484 [==============================] - 43s 89ms/step - loss: 2.4476 - accuracy: 0.5391\n",
            "Epoch 44/100\n",
            "484/484 [==============================] - 43s 90ms/step - loss: 2.3821 - accuracy: 0.5555\n",
            "Epoch 45/100\n",
            "484/484 [==============================] - 43s 89ms/step - loss: 2.3304 - accuracy: 0.5674\n",
            "Epoch 46/100\n",
            "484/484 [==============================] - 43s 89ms/step - loss: 2.2627 - accuracy: 0.5813\n",
            "Epoch 47/100\n",
            "484/484 [==============================] - 43s 90ms/step - loss: 2.2130 - accuracy: 0.5949\n",
            "Epoch 48/100\n",
            "484/484 [==============================] - 43s 89ms/step - loss: 2.1645 - accuracy: 0.6045\n",
            "Epoch 49/100\n",
            "484/484 [==============================] - 43s 89ms/step - loss: 2.1072 - accuracy: 0.6208\n",
            "Epoch 50/100\n",
            "484/484 [==============================] - 43s 89ms/step - loss: 2.0668 - accuracy: 0.6287\n",
            "Epoch 51/100\n",
            "484/484 [==============================] - 43s 89ms/step - loss: 2.0267 - accuracy: 0.6356\n",
            "Epoch 52/100\n",
            "484/484 [==============================] - 43s 89ms/step - loss: 1.9854 - accuracy: 0.6460\n",
            "Epoch 53/100\n",
            "484/484 [==============================] - 43s 89ms/step - loss: 1.9398 - accuracy: 0.6576\n",
            "Epoch 54/100\n",
            "484/484 [==============================] - 43s 90ms/step - loss: 1.9074 - accuracy: 0.6625\n",
            "Epoch 55/100\n",
            "484/484 [==============================] - 43s 90ms/step - loss: 1.8651 - accuracy: 0.6740\n",
            "Epoch 56/100\n",
            "484/484 [==============================] - 43s 89ms/step - loss: 1.8343 - accuracy: 0.6775\n",
            "Epoch 57/100\n",
            "484/484 [==============================] - 43s 89ms/step - loss: 1.7941 - accuracy: 0.6873\n",
            "Epoch 58/100\n",
            "484/484 [==============================] - 43s 89ms/step - loss: 1.7546 - accuracy: 0.6934\n",
            "Epoch 59/100\n",
            "484/484 [==============================] - 43s 89ms/step - loss: 1.7125 - accuracy: 0.7075\n",
            "Epoch 60/100\n",
            "484/484 [==============================] - 43s 89ms/step - loss: 1.6722 - accuracy: 0.7160\n",
            "Epoch 61/100\n",
            "484/484 [==============================] - 43s 89ms/step - loss: 1.6758 - accuracy: 0.7100\n",
            "Epoch 62/100\n",
            "484/484 [==============================] - 43s 89ms/step - loss: 1.6408 - accuracy: 0.7192\n",
            "Epoch 63/100\n",
            "484/484 [==============================] - 43s 88ms/step - loss: 1.6247 - accuracy: 0.7207\n",
            "Epoch 64/100\n",
            "484/484 [==============================] - 43s 88ms/step - loss: 1.5928 - accuracy: 0.7255\n",
            "Epoch 65/100\n",
            "484/484 [==============================] - 43s 88ms/step - loss: 1.5547 - accuracy: 0.7382\n",
            "Epoch 66/100\n",
            "484/484 [==============================] - 43s 88ms/step - loss: 1.5357 - accuracy: 0.7376\n",
            "Epoch 67/100\n",
            "484/484 [==============================] - 43s 88ms/step - loss: 1.5064 - accuracy: 0.7448\n",
            "Epoch 68/100\n",
            "484/484 [==============================] - 43s 89ms/step - loss: 1.4916 - accuracy: 0.7443\n",
            "Epoch 69/100\n",
            "484/484 [==============================] - 43s 88ms/step - loss: 1.4702 - accuracy: 0.7476\n",
            "Epoch 70/100\n",
            "484/484 [==============================] - 43s 88ms/step - loss: 1.4552 - accuracy: 0.7528\n",
            "Epoch 71/100\n",
            "484/484 [==============================] - 43s 88ms/step - loss: 1.4249 - accuracy: 0.7615\n",
            "Epoch 72/100\n",
            "484/484 [==============================] - 43s 89ms/step - loss: 1.4039 - accuracy: 0.7610\n",
            "Epoch 73/100\n",
            "484/484 [==============================] - 43s 88ms/step - loss: 1.3953 - accuracy: 0.7624\n",
            "Epoch 74/100\n",
            "484/484 [==============================] - 43s 88ms/step - loss: 1.3705 - accuracy: 0.7701\n",
            "Epoch 75/100\n",
            "484/484 [==============================] - 43s 88ms/step - loss: 1.3536 - accuracy: 0.7711\n",
            "Epoch 76/100\n",
            "484/484 [==============================] - 43s 89ms/step - loss: 1.3328 - accuracy: 0.7733\n",
            "Epoch 77/100\n",
            "484/484 [==============================] - 43s 88ms/step - loss: 1.3088 - accuracy: 0.7781\n",
            "Epoch 78/100\n",
            "484/484 [==============================] - 43s 88ms/step - loss: 1.2992 - accuracy: 0.7802\n",
            "Epoch 79/100\n",
            "484/484 [==============================] - 43s 88ms/step - loss: 1.2782 - accuracy: 0.7836\n",
            "Epoch 80/100\n",
            "484/484 [==============================] - 43s 89ms/step - loss: 1.2673 - accuracy: 0.7850\n",
            "Epoch 81/100\n",
            "484/484 [==============================] - 43s 89ms/step - loss: 1.2765 - accuracy: 0.7841\n",
            "Epoch 82/100\n",
            "484/484 [==============================] - 43s 89ms/step - loss: 1.2528 - accuracy: 0.7884\n",
            "Epoch 83/100\n",
            "484/484 [==============================] - 43s 89ms/step - loss: 1.2400 - accuracy: 0.7889\n",
            "Epoch 84/100\n",
            "484/484 [==============================] - 43s 89ms/step - loss: 1.2464 - accuracy: 0.7872\n",
            "Epoch 85/100\n",
            "484/484 [==============================] - 43s 89ms/step - loss: 1.2161 - accuracy: 0.7930\n",
            "Epoch 86/100\n",
            "484/484 [==============================] - 43s 89ms/step - loss: 1.1891 - accuracy: 0.7975\n",
            "Epoch 87/100\n",
            "484/484 [==============================] - 43s 89ms/step - loss: 1.1842 - accuracy: 0.7954\n",
            "Epoch 88/100\n",
            "484/484 [==============================] - 43s 89ms/step - loss: 1.1753 - accuracy: 0.7963\n",
            "Epoch 89/100\n",
            "484/484 [==============================] - 43s 89ms/step - loss: 1.1620 - accuracy: 0.8011\n",
            "Epoch 90/100\n",
            "484/484 [==============================] - 43s 89ms/step - loss: 1.1545 - accuracy: 0.8029\n",
            "Epoch 91/100\n",
            "484/484 [==============================] - 43s 89ms/step - loss: 1.1512 - accuracy: 0.8019\n",
            "Epoch 92/100\n",
            "484/484 [==============================] - 43s 89ms/step - loss: 1.1386 - accuracy: 0.8048\n",
            "Epoch 93/100\n",
            "484/484 [==============================] - 43s 89ms/step - loss: 1.1274 - accuracy: 0.8079\n",
            "Epoch 94/100\n",
            "484/484 [==============================] - 43s 89ms/step - loss: 1.1138 - accuracy: 0.8071\n",
            "Epoch 95/100\n",
            "484/484 [==============================] - 43s 89ms/step - loss: 1.1120 - accuracy: 0.8071\n",
            "Epoch 96/100\n",
            "484/484 [==============================] - 43s 89ms/step - loss: 1.0970 - accuracy: 0.8102\n",
            "Epoch 97/100\n",
            "484/484 [==============================] - 42s 87ms/step - loss: 1.0899 - accuracy: 0.8127\n",
            "Epoch 98/100\n",
            "484/484 [==============================] - 42s 87ms/step - loss: 1.0795 - accuracy: 0.8103\n",
            "Epoch 99/100\n",
            "484/484 [==============================] - 42s 86ms/step - loss: 1.0750 - accuracy: 0.8121\n",
            "Epoch 100/100\n",
            "484/484 [==============================] - 42s 86ms/step - loss: 1.0645 - accuracy: 0.8150\n"
          ],
          "name": "stdout"
        }
      ]
    },
    {
      "cell_type": "markdown",
      "metadata": {},
      "source": [
        "Let’s have a look at the training process, watching how accuracy and loss change over epochs."
      ]
    },
    {
      "cell_type": "code",
      "metadata": {
        "colab_type": "code",
        "id": "1fXTEO3GJ282",
        "colab": {
          "base_uri": "https://localhost:8080/",
          "height": 545
        },
        "outputId": "56449e3d-0ed7-4f2a-f84b-52ee3bcb7a32"
      },
      "source": [
        "import matplotlib.pyplot as plt\n",
        "acc = history.history['accuracy']\n",
        "loss = history.history['loss']\n",
        "\n",
        "epochs = range(len(acc))\n",
        "\n",
        "plt.plot(epochs, acc, 'b', label='Training accuracy')\n",
        "plt.title('Training accuracy')\n",
        "\n",
        "plt.figure()\n",
        "\n",
        "plt.plot(epochs, loss, 'b', label='Training Loss')\n",
        "plt.title('Training loss')\n",
        "plt.legend()\n",
        "\n",
        "plt.show()"
      ],
      "execution_count": 11,
      "outputs": [
        {
          "output_type": "display_data",
          "data": {
            "image/png": "[encoded data removed]",
            "text/plain": [
              "<Figure size 432x288 with 1 Axes>"
            ]
          },
          "metadata": {
            "tags": [],
            "needs_background": "light"
          }
        },
        {
          "output_type": "display_data",
          "data": {
            "image/png": "[encoded data removed]",
            "text/plain": [
              "<Figure size 432x288 with 1 Axes>"
            ]
          },
          "metadata": {
            "tags": [],
            "needs_background": "light"
          }
        }
      ]
    },
    {
      "cell_type": "markdown",
      "metadata": {},
      "source": [
        "## 04: Use the model"
      ]
    },
    {
      "cell_type": "markdown",
      "metadata": {},
      "source": [
        "Let's use this model to generate a graph with some sentences."
      ]
    },
    {
      "cell_type": "code",
      "metadata": {
        "colab_type": "code",
        "id": "6Vc6PHgxa6Hm",
        "colab": {
          "base_uri": "https://localhost:8080/",
          "height": 55
        },
        "outputId": "71459123-7a2c-4415-a8ab-24d7229938cf"
      },
      "source": [
        "seed_text = \"Help me Obi Wan Kenobi, you're my only hope\"\n",
        "next_words = 100\n",
        "  \n",
        "for _ in range(next_words):\n",
        "\ttoken_list = tokenizer.texts_to_sequences([seed_text])[0]\n",
        "\ttoken_list = pad_sequences([token_list], maxlen=max_sequence_len-1, padding='pre')\n",
        "\tpredicted = model.predict_classes(token_list, verbose=0)\n",
        "\toutput_word = \"\"\n",
        "\tfor word, index in tokenizer.word_index.items():\n",
        "\t\tif index == predicted:\n",
        "\t\t\toutput_word = word\n",
        "\t\t\tbreak\n",
        "\tseed_text += \" \" + output_word\n",
        "print(seed_text)"
      ],
      "execution_count": 12,
      "outputs": [
        {
          "output_type": "stream",
          "text": [
            "Help me Obi Wan Kenobi, you're my only hope that found her worthless breast ' acquainted forth him did stay be sun must give thee needing appetite to laws desired say him hold a much spent ' behold it gladly unbred unbred bide another care in things outworn ' doth taken directed night be told to done them on they was not tell my sake or some prime hid on kings appear mother pace stand leaves spent seen find away an woe ' bow cease express'd left away me common might see their faces ' we ' be delighted sang spent rage affords cold mother affords hour eyes '\n"
          ],
          "name": "stdout"
        }
      ]
    },
    {
      "cell_type": "markdown",
      "metadata": {},
      "source": [
        "Mmm, it looks kind of weird, but not totally nonsense :)"
      ]
    }
  ]
}